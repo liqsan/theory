{
 "cells": [
  {
   "cell_type": "markdown",
   "id": "19d851da",
   "metadata": {},
   "source": [
    "ls - он скидывает все папки\n",
    "git add. - добавить все файлы и новые и измененные \n",
    "git clone - клонировать репозиторий гитхаб \n",
    "git status - показывает текущие изменения \n",
    "\n"
   ]
  },
  {
   "cell_type": "markdown",
   "id": "158fcd40",
   "metadata": {},
   "source": [
    "git status\n",
    "git add .\n",
    "git commit -m \"текст коммита\"\n",
    "git push "
   ]
  }
 ],
 "metadata": {
  "language_info": {
   "name": "python"
  }
 },
 "nbformat": 4,
 "nbformat_minor": 5
}
